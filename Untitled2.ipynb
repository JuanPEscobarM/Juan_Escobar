{
  "metadata": {
    "language_info": {
      "codemirror_mode": {
        "name": "python",
        "version": 3
      },
      "file_extension": ".py",
      "mimetype": "text/x-python",
      "name": "python",
      "nbconvert_exporter": "python",
      "pygments_lexer": "ipython3",
      "version": "3.8"
    },
    "kernelspec": {
      "name": "python",
      "display_name": "Python (Pyodide)",
      "language": "python"
    }
  },
  "nbformat_minor": 4,
  "nbformat": 4,
  "cells": [
    {
      "cell_type": "markdown",
      "source": "# My Jupiter Notebook on IBM Watson Studio",
      "metadata": {}
    },
    {
      "cell_type": "markdown",
      "source": "**Juan Escobar** \n<br>Finanzas y Comercio Internacional",
      "metadata": {}
    },
    {
      "cell_type": "markdown",
      "source": "*Estoy interesado en la ciencia de datos, porque ha ampliado mis horizontes acerca de el poder de los datos y que puedo hacer con ellos, desde como obtenerlos hasta su respectivo procesamiento. Tambien sus infinitas posibilidades, desde la parte financiera hasta salvar vidas.*",
      "metadata": {}
    },
    {
      "cell_type": "markdown",
      "source": "### El siguiente codigo hara una operacion matematica simple, 1 entre 5",
      "metadata": {}
    },
    {
      "cell_type": "code",
      "source": "1/5",
      "metadata": {
        "trusted": true
      },
      "execution_count": 5,
      "outputs": [
        {
          "execution_count": 5,
          "output_type": "execute_result",
          "data": {
            "text/plain": "0.2"
          },
          "metadata": {}
        }
      ]
    },
    {
      "cell_type": "markdown",
      "source": "[Click aqui para ir a Google](http://www.google.com)",
      "metadata": {}
    },
    {
      "cell_type": "markdown",
      "source": "<ol>Lista de compras\n<li>Pescado</li>\n<li>Carne</li>\n<li>Queso</li>\n<li>Cerdo</li>\n</ol>\n",
      "metadata": {}
    },
    {
      "cell_type": "markdown",
      "source": "|tabla 1|tabla 2|\n|--------|-------|\n|Helado  |Quese  |  \n",
      "metadata": {}
    },
    {
      "cell_type": "markdown",
      "source": "",
      "metadata": {}
    }
  ]
}